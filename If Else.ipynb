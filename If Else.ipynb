{
 "cells": [
  {
   "cell_type": "markdown",
   "id": "7c3be8b0",
   "metadata": {},
   "source": [
    "# INPUT FOR NAME AND ELIGIBILITY OF A VOTER"
   ]
  },
  {
   "cell_type": "code",
   "execution_count": 1,
   "id": "95de72a5",
   "metadata": {},
   "outputs": [
    {
     "name": "stdout",
     "output_type": "stream",
     "text": [
      "Enter your nameRinita\n"
     ]
    }
   ],
   "source": [
    "a = input(\"Enter your name\")"
   ]
  },
  {
   "cell_type": "code",
   "execution_count": 2,
   "id": "3eb0360b",
   "metadata": {},
   "outputs": [
    {
     "name": "stdout",
     "output_type": "stream",
     "text": [
      "age22\n"
     ]
    }
   ],
   "source": [
    "b = int(input(\"age\"))"
   ]
  },
  {
   "cell_type": "code",
   "execution_count": 3,
   "id": "30696bcc",
   "metadata": {},
   "outputs": [
    {
     "name": "stdout",
     "output_type": "stream",
     "text": [
      "Rinita eligible\n"
     ]
    }
   ],
   "source": [
    "if(b>=18):\n",
    "    print(a,\"eligible\")\n",
    "else:\n",
    "    print(a,\"not eligible\")"
   ]
  },
  {
   "cell_type": "code",
   "execution_count": 10,
   "id": "b32bef43",
   "metadata": {},
   "outputs": [
    {
     "name": "stdout",
     "output_type": "stream",
     "text": [
      "Rinita adult\n"
     ]
    }
   ],
   "source": [
    "if(b>=18):\n",
    "    print(a,\"adult\")\n",
    "elif(b>=13):\n",
    "    print(a,\"teenager\")\n",
    "else:\n",
    "    print(a,\"child\")"
   ]
  },
  {
   "cell_type": "code",
   "execution_count": 11,
   "id": "389dfbc3",
   "metadata": {},
   "outputs": [
    {
     "name": "stdout",
     "output_type": "stream",
     "text": [
      "Enter your nameRinita\n",
      "age15\n",
      "Rinita teenager\n"
     ]
    }
   ],
   "source": [
    "a = input(\"Enter your name\")\n",
    "b = int(input(\"age\"))\n",
    "if(b>=18):\n",
    "    print(a,\"adult\")\n",
    "elif(b>=13):\n",
    "    print(a,\"teenager\")\n",
    "else:\n",
    "    print(a,\"child\")"
   ]
  },
  {
   "cell_type": "code",
   "execution_count": null,
   "id": "007a045c",
   "metadata": {},
   "outputs": [],
   "source": []
  }
 ],
 "metadata": {
  "kernelspec": {
   "display_name": "Python 3",
   "language": "python",
   "name": "python3"
  },
  "language_info": {
   "codemirror_mode": {
    "name": "ipython",
    "version": 3
   },
   "file_extension": ".py",
   "mimetype": "text/x-python",
   "name": "python",
   "nbconvert_exporter": "python",
   "pygments_lexer": "ipython3",
   "version": "3.8.8"
  }
 },
 "nbformat": 4,
 "nbformat_minor": 5
}
