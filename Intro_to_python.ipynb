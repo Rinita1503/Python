{
 "cells": [
  {
   "cell_type": "markdown",
   "id": "856b6f38",
   "metadata": {},
   "source": [
    "# MY FAVOURITE COLOUR IS WHITE"
   ]
  },
  {
   "cell_type": "code",
   "execution_count": 1,
   "id": "98979d55",
   "metadata": {},
   "outputs": [
    {
     "name": "stdout",
     "output_type": "stream",
     "text": [
      " I LOVE WATCHING MOVIES\n"
     ]
    }
   ],
   "source": [
    "print(\" I LOVE WATCHING MOVIES\")"
   ]
  },
  {
   "cell_type": "code",
   "execution_count": 2,
   "id": "ed4d2632",
   "metadata": {},
   "outputs": [
    {
     "name": "stdout",
     "output_type": "stream",
     "text": [
      "Python 3.8.8\n"
     ]
    }
   ],
   "source": [
    "! python --version"
   ]
  },
  {
   "cell_type": "code",
   "execution_count": 3,
   "id": "9697b717",
   "metadata": {},
   "outputs": [
    {
     "name": "stdout",
     "output_type": "stream",
     "text": [
      "15\n"
     ]
    }
   ],
   "source": [
    "a = int(input())\n"
   ]
  },
  {
   "cell_type": "code",
   "execution_count": 4,
   "id": "3a8acba3",
   "metadata": {},
   "outputs": [
    {
     "name": "stdout",
     "output_type": "stream",
     "text": [
      "18\n",
      "33\n"
     ]
    }
   ],
   "source": [
    "b = int(input())\n",
    "c = a+b\n",
    "print(c)"
   ]
  },
  {
   "cell_type": "code",
   "execution_count": 5,
   "id": "c4299065",
   "metadata": {},
   "outputs": [
    {
     "name": "stdout",
     "output_type": "stream",
     "text": [
      "15\n",
      "16\n",
      "31\n"
     ]
    }
   ],
   "source": [
    "a = int(input())\n",
    "b = int(input())\n",
    "c = a+b\n",
    "print(c)"
   ]
  },
  {
   "cell_type": "code",
   "execution_count": 6,
   "id": "4fb4e6e7",
   "metadata": {},
   "outputs": [
    {
     "name": "stdout",
     "output_type": "stream",
     "text": [
      "the first number is 1511111111111111118\n",
      "the second number is 1668238927398\n",
      "11111179350038516\n"
     ]
    }
   ],
   "source": [
    "a = int(input(\"the first number is 15\"))\n",
    "b = int(input(\"the second number is 16\"))\n",
    "c = a+b\n",
    "print(c)"
   ]
  },
  {
   "cell_type": "code",
   "execution_count": 7,
   "id": "10522b7d",
   "metadata": {},
   "outputs": [
    {
     "name": "stdout",
     "output_type": "stream",
     "text": [
      "the first number is 15879834728979437\n",
      "the second number is 1673797493279\n",
      "87983472897943773797493279\n"
     ]
    }
   ],
   "source": [
    "a = input(\"the first number is 15\")\n",
    "b = input(\"the second number is 16\")\n",
    "c = a+b\n",
    "print(c)"
   ]
  },
  {
   "cell_type": "code",
   "execution_count": 8,
   "id": "26548a01",
   "metadata": {},
   "outputs": [
    {
     "name": "stdout",
     "output_type": "stream",
     "text": [
      "the first number is 15152.35\n",
      "the second number is 16242.535\n",
      "394.885\n"
     ]
    }
   ],
   "source": [
    "a =float(input(\"the first number is 15\"))\n",
    "b =float(input(\"the second number is 16\"))\n",
    "c = a+b\n",
    "print(c)"
   ]
  },
  {
   "cell_type": "code",
   "execution_count": 9,
   "id": "544395af",
   "metadata": {},
   "outputs": [],
   "source": [
    "# biriyani "
   ]
  },
  {
   "cell_type": "code",
   "execution_count": 10,
   "id": "765419b9",
   "metadata": {},
   "outputs": [],
   "source": [
    "x=5\n",
    "y=\"rectangle\""
   ]
  },
  {
   "cell_type": "code",
   "execution_count": 12,
   "id": "d9535d44",
   "metadata": {},
   "outputs": [
    {
     "data": {
      "text/plain": [
       "5"
      ]
     },
     "execution_count": 12,
     "metadata": {},
     "output_type": "execute_result"
    }
   ],
   "source": [
    "x"
   ]
  },
  {
   "cell_type": "code",
   "execution_count": 13,
   "id": "4d5d38b9",
   "metadata": {},
   "outputs": [
    {
     "data": {
      "text/plain": [
       "'rectangle'"
      ]
     },
     "execution_count": 13,
     "metadata": {},
     "output_type": "execute_result"
    }
   ],
   "source": [
    "y"
   ]
  },
  {
   "cell_type": "code",
   "execution_count": null,
   "id": "0a9d54df",
   "metadata": {},
   "outputs": [],
   "source": []
  }
 ],
 "metadata": {
  "kernelspec": {
   "display_name": "Python 3",
   "language": "python",
   "name": "python3"
  },
  "language_info": {
   "codemirror_mode": {
    "name": "ipython",
    "version": 3
   },
   "file_extension": ".py",
   "mimetype": "text/x-python",
   "name": "python",
   "nbconvert_exporter": "python",
   "pygments_lexer": "ipython3",
   "version": "3.8.8"
  }
 },
 "nbformat": 4,
 "nbformat_minor": 5
}
