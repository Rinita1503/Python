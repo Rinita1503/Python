{
 "cells": [
  {
   "cell_type": "code",
   "execution_count": 1,
   "id": "767ce464",
   "metadata": {},
   "outputs": [
    {
     "name": "stdout",
     "output_type": "stream",
     "text": [
      "5 JOHN\n"
     ]
    }
   ],
   "source": [
    "x = 5\n",
    "y = \"JOHN\"\n",
    "print(x,y)"
   ]
  },
  {
   "cell_type": "code",
   "execution_count": 2,
   "id": "07b8162e",
   "metadata": {},
   "outputs": [
    {
     "name": "stdout",
     "output_type": "stream",
     "text": [
      "RIJJI\n"
     ]
    }
   ],
   "source": [
    "x = 2\n",
    "x = \"RIJJI\"\n",
    "print(x)"
   ]
  },
  {
   "cell_type": "code",
   "execution_count": 3,
   "id": "b9331cc8",
   "metadata": {},
   "outputs": [
    {
     "name": "stdout",
     "output_type": "stream",
     "text": [
      "3 3 3.0\n"
     ]
    }
   ],
   "source": [
    "x = str(3)    # x will be '3'\n",
    "y = int(3)    # y will be 3\n",
    "z = float(3)  # z will be 3.0\n",
    "print(x,y,z)"
   ]
  },
  {
   "cell_type": "code",
   "execution_count": 4,
   "id": "f90a4def",
   "metadata": {},
   "outputs": [
    {
     "name": "stdout",
     "output_type": "stream",
     "text": [
      "type  x <class 'str'>\n",
      "type  y <class 'int'>\n",
      "type  z <class 'float'>\n"
     ]
    }
   ],
   "source": [
    "print(\"type  x\",type(x))\n",
    "print(\"type  y\",type(y))\n",
    "print(\"type  z\",type(z))"
   ]
  },
  {
   "cell_type": "code",
   "execution_count": 5,
   "id": "8c595ecb",
   "metadata": {},
   "outputs": [
    {
     "name": "stdout",
     "output_type": "stream",
     "text": [
      "RAI\n"
     ]
    }
   ],
   "source": [
    "x = \"RAI\"\n",
    "print(x)"
   ]
  },
  {
   "cell_type": "code",
   "execution_count": 6,
   "id": "cbf3cac8",
   "metadata": {},
   "outputs": [
    {
     "name": "stdout",
     "output_type": "stream",
     "text": [
      "type x <class 'str'>\n"
     ]
    }
   ],
   "source": [
    "print(\"type x\",type(x))"
   ]
  },
  {
   "cell_type": "code",
   "execution_count": 7,
   "id": "90bf0a14",
   "metadata": {},
   "outputs": [
    {
     "name": "stdout",
     "output_type": "stream",
     "text": [
      "2 RIJJI\n"
     ]
    }
   ],
   "source": [
    "x = 2\n",
    "X = \"RIJJI\"\n",
    "print(x,X)"
   ]
  },
  {
   "cell_type": "code",
   "execution_count": 9,
   "id": "d8d6c605",
   "metadata": {},
   "outputs": [
    {
     "name": "stdout",
     "output_type": "stream",
     "text": [
      "3 ROSHMI 15\n"
     ]
    }
   ],
   "source": [
    "# Assigning multiple values\n",
    "x,y,z = 3,'ROSHMI',15\n",
    "print(x,y,z)"
   ]
  },
  {
   "cell_type": "code",
   "execution_count": 11,
   "id": "0f1f0f30",
   "metadata": {},
   "outputs": [
    {
     "name": "stdout",
     "output_type": "stream",
     "text": [
      "ROSHMI ROSHMI ROSHMI\n"
     ]
    }
   ],
   "source": [
    "# Assigning multiple values\n",
    "x=y=z = 'ROSHMI'\n",
    "print(x,y,z)"
   ]
  },
  {
   "cell_type": "code",
   "execution_count": null,
   "id": "42a54f91",
   "metadata": {},
   "outputs": [],
   "source": []
  }
 ],
 "metadata": {
  "kernelspec": {
   "display_name": "Python 3",
   "language": "python",
   "name": "python3"
  },
  "language_info": {
   "codemirror_mode": {
    "name": "ipython",
    "version": 3
   },
   "file_extension": ".py",
   "mimetype": "text/x-python",
   "name": "python",
   "nbconvert_exporter": "python",
   "pygments_lexer": "ipython3",
   "version": "3.8.8"
  }
 },
 "nbformat": 4,
 "nbformat_minor": 5
}
